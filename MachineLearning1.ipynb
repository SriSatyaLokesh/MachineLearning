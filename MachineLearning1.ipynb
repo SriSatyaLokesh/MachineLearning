{
 "cells": [
  {
   "cell_type": "markdown",
   "metadata": {},
   "source": [
    "# Machine Learning"
   ]
  },
  {
   "cell_type": "markdown",
   "metadata": {},
   "source": [
    "### What is Machine learning"
   ]
  },
  {
   "cell_type": "markdown",
   "metadata": {},
   "source": [
    "Machine Learning deals with the problem of extracting **features** from the data so as to solve many different **predictive** tasks.\n",
    "\n",
    "* Forecasting (demand prediction, sales)\n",
    "* Imputing missing data (netflix recommendations)\n",
    "* Detecting Anamolies (viruses, unusal behaviours)\n",
    "* Classifying (Credit card assessmenet)\n",
    "* Ranking (Google search recommendation)\n",
    "* Summarizing (news digest, social media sentiment analysis)\n",
    "* Decision Making (AI)"
   ]
  },
  {
   "cell_type": "markdown",
   "metadata": {},
   "source": [
    "### When to apply Machine learning"
   ]
  },
  {
   "cell_type": "markdown",
   "metadata": {},
   "source": [
    "* When Human Expertise is absent (navigation on mars)\n",
    "* When humans can't show their expertise (Speech and face Recognition)\n",
    "* Problems or Solutions woth change with time(Tracking, Temprature, Weather)\n",
    "* Solutions that need to be applied for particular cases (Biometrics, personalization)\n",
    "* When problem size is so big that our expertise can't explain (matching ads to humans)\n"
   ]
  },
  {
   "cell_type": "code",
   "execution_count": null,
   "metadata": {},
   "outputs": [],
   "source": []
  }
 ],
 "metadata": {
  "kernelspec": {
   "display_name": "Python 3",
   "language": "python",
   "name": "python3"
  },
  "language_info": {
   "codemirror_mode": {
    "name": "ipython",
    "version": 3
   },
   "file_extension": ".py",
   "mimetype": "text/x-python",
   "name": "python",
   "nbconvert_exporter": "python",
   "pygments_lexer": "ipython3",
   "version": "3.7.3"
  }
 },
 "nbformat": 4,
 "nbformat_minor": 2
}
